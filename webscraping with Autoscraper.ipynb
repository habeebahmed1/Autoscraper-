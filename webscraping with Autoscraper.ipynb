{
 "cells": [
  {
   "cell_type": "code",
   "execution_count": 1,
   "id": "fce94d3f-e7bb-4f23-bff5-6f7b697821a7",
   "metadata": {},
   "outputs": [
    {
     "name": "stdout",
     "output_type": "stream",
     "text": [
      "Requirement already satisfied: autoscraper in c:\\users\\ahmiz\\anaconda3\\lib\\site-packages (1.1.14)\n",
      "Requirement already satisfied: bs4 in c:\\users\\ahmiz\\anaconda3\\lib\\site-packages (from autoscraper) (0.0.1)\n",
      "Requirement already satisfied: requests in c:\\users\\ahmiz\\anaconda3\\lib\\site-packages (from autoscraper) (2.28.1)\n",
      "Requirement already satisfied: lxml in c:\\users\\ahmiz\\anaconda3\\lib\\site-packages (from autoscraper) (4.9.1)\n",
      "Requirement already satisfied: beautifulsoup4 in c:\\users\\ahmiz\\anaconda3\\lib\\site-packages (from bs4->autoscraper) (4.11.1)\n",
      "Requirement already satisfied: urllib3<1.27,>=1.21.1 in c:\\users\\ahmiz\\anaconda3\\lib\\site-packages (from requests->autoscraper) (1.26.11)\n",
      "Requirement already satisfied: charset-normalizer<3,>=2 in c:\\users\\ahmiz\\anaconda3\\lib\\site-packages (from requests->autoscraper) (2.0.4)\n",
      "Requirement already satisfied: idna<4,>=2.5 in c:\\users\\ahmiz\\anaconda3\\lib\\site-packages (from requests->autoscraper) (3.3)\n",
      "Requirement already satisfied: certifi>=2017.4.17 in c:\\users\\ahmiz\\anaconda3\\lib\\site-packages (from requests->autoscraper) (2022.9.14)\n",
      "Requirement already satisfied: soupsieve>1.2 in c:\\users\\ahmiz\\anaconda3\\lib\\site-packages (from beautifulsoup4->bs4->autoscraper) (2.3.1)\n",
      "Note: you may need to restart the kernel to use updated packages.\n"
     ]
    }
   ],
   "source": [
    "pip install autoscraper\n"
   ]
  },
  {
   "cell_type": "code",
   "execution_count": 3,
   "id": "cf9b4a40-3acb-409b-b444-57b2cfc8abf8",
   "metadata": {},
   "outputs": [
    {
     "name": "stdout",
     "output_type": "stream",
     "text": [
      "['67,999', '67,499', '76,999', '53,999', '1,27,999', '1,19,999', '86,999', '1,43,990', '77,999', 'Apple iPhone 14 (128 GB) - Midnight', 'Apple iPhone 14 (128 GB) - Blue', 'Apple iPhone 14 (128 GB) - Starlight', 'Apple iPhone 14 (128 GB) - Purple', 'Apple iPhone 14 Plus (128 GB) - Midnight', 'Apple iPhone 12 (64GB) - (Product) RED', 'Apple iPhone 14 Pro Max (128 GB) - Space Black', 'Apple iPhone 14 Pro (128 GB) - Deep Purple', 'Apple iPhone 14 Plus (256 GB) - Blue', 'Apple iPhone 14 Pro Max (256 GB) - Gold', 'Apple iPhone 14 Plus (128 GB) - Blue', 'Apple iPhone 14 Plus (128 GB) - Purple', 'Apple iPhone 14 Pro Max (128 GB) - Gold', 'Apple iPhone 14 (256 GB) - (Product) RED', 'Apple iPhone 14 Pro (128 GB) - Silver', 'Apple iPhone 14 Pro (128 GB) - Space Black', '1,271', '676', '31,208', '579', '491']\n"
     ]
    }
   ],
   "source": [
    "from autoscraper import AutoScraper\n",
    "\n",
    "url = \"https://www.amazon.in/s?k=Iphones\"\n",
    "scraping_list =[ \"1,19,999\",\"Apple iPhone 14 Pro (128 GB) - Silver\",\"491\"]\n",
    "scraper = AutoScraper()\n",
    "result = scraper.build(url,scraping_list)\n",
    "print(result)\n"
   ]
  },
  {
   "cell_type": "code",
   "execution_count": 4,
   "id": "0344aafb-34f5-404e-aebc-c2c082b0b9ff",
   "metadata": {},
   "outputs": [
    {
     "data": {
      "text/plain": [
       "{'rule_k29s': ['67,999',\n",
       "  '67,499',\n",
       "  '67,499',\n",
       "  '67,999',\n",
       "  '76,999',\n",
       "  '53,999',\n",
       "  '1,27,999',\n",
       "  '1,19,999',\n",
       "  '86,999',\n",
       "  '1,43,990',\n",
       "  '76,999',\n",
       "  '76,999',\n",
       "  '1,27,999',\n",
       "  '77,999',\n",
       "  '1,19,999',\n",
       "  '1,19,999'],\n",
       " 'rule_b5d6': ['67,999',\n",
       "  '67,499',\n",
       "  '67,499',\n",
       "  '67,999',\n",
       "  '76,999',\n",
       "  '53,999',\n",
       "  '1,27,999',\n",
       "  '1,19,999',\n",
       "  '86,999',\n",
       "  '1,43,990',\n",
       "  '76,999',\n",
       "  '76,999',\n",
       "  '1,27,999',\n",
       "  '77,999',\n",
       "  '1,19,999',\n",
       "  '1,19,999'],\n",
       " 'rule_iwuh': ['67,999',\n",
       "  '67,499',\n",
       "  '67,499',\n",
       "  '67,999',\n",
       "  '76,999',\n",
       "  '53,999',\n",
       "  '1,27,999',\n",
       "  '1,19,999',\n",
       "  '86,999',\n",
       "  '1,43,990',\n",
       "  '76,999',\n",
       "  '76,999',\n",
       "  '1,27,999',\n",
       "  '77,999',\n",
       "  '1,19,999',\n",
       "  '1,19,999'],\n",
       " 'rule_d42y': ['53,999', '77,999'],\n",
       " 'rule_cbjg': ['Apple iPhone 14 (128 GB) - Midnight',\n",
       "  'Apple iPhone 14 (128 GB) - Blue',\n",
       "  'Apple iPhone 14 (128 GB) - Starlight',\n",
       "  'Apple iPhone 14 (128 GB) - Purple',\n",
       "  'Apple iPhone 14 Plus (128 GB) - Midnight',\n",
       "  'Apple iPhone 12 (64GB) - (Product) RED',\n",
       "  'Apple iPhone 14 Pro Max (128 GB) - Space Black',\n",
       "  'Apple iPhone 14 Pro (128 GB) - Deep Purple',\n",
       "  'Apple iPhone 14 Plus (256 GB) - Blue',\n",
       "  'Apple iPhone 14 Pro Max (256 GB) - Gold',\n",
       "  'Apple iPhone 14 Plus (128 GB) - Blue',\n",
       "  'Apple iPhone 14 Plus (128 GB) - Purple',\n",
       "  'Apple iPhone 14 Pro Max (128 GB) - Gold',\n",
       "  'Apple iPhone 14 (256 GB) - (Product) RED',\n",
       "  'Apple iPhone 14 Pro (128 GB) - Silver',\n",
       "  'Apple iPhone 14 Pro (128 GB) - Space Black'],\n",
       " 'rule_n4x3': ['Apple iPhone 14 (128 GB) - Midnight',\n",
       "  'Apple iPhone 14 (128 GB) - Blue',\n",
       "  'Apple iPhone 14 (128 GB) - Starlight',\n",
       "  'Apple iPhone 14 (128 GB) - Purple',\n",
       "  'Apple iPhone 14 Plus (128 GB) - Midnight',\n",
       "  'Apple iPhone 12 (64GB) - (Product) RED',\n",
       "  'Apple iPhone 14 Pro Max (128 GB) - Space Black',\n",
       "  'Apple iPhone 14 Pro (128 GB) - Deep Purple',\n",
       "  'Apple iPhone 14 Plus (256 GB) - Blue',\n",
       "  'Apple iPhone 14 Pro Max (256 GB) - Gold',\n",
       "  'Apple iPhone 14 Plus (128 GB) - Blue',\n",
       "  'Apple iPhone 14 Plus (128 GB) - Purple',\n",
       "  'Apple iPhone 14 Pro Max (128 GB) - Gold',\n",
       "  'Apple iPhone 14 (256 GB) - (Product) RED',\n",
       "  'Apple iPhone 14 Pro (128 GB) - Silver',\n",
       "  'Apple iPhone 14 Pro (128 GB) - Space Black'],\n",
       " 'rule_86v7': ['Apple iPhone 12 (64GB) - (Product) RED',\n",
       "  'Apple iPhone 14 (256 GB) - (Product) RED'],\n",
       " 'rule_u4up': ['1,271',\n",
       "  '1,271',\n",
       "  '1,271',\n",
       "  '1,271',\n",
       "  '676',\n",
       "  '31,208',\n",
       "  '579',\n",
       "  '491',\n",
       "  '676',\n",
       "  '579',\n",
       "  '676',\n",
       "  '676',\n",
       "  '579',\n",
       "  '1,271',\n",
       "  '491',\n",
       "  '491'],\n",
       " 'rule_6fuc': ['1,271',\n",
       "  '1,271',\n",
       "  '1,271',\n",
       "  '1,271',\n",
       "  '676',\n",
       "  '31,208',\n",
       "  '579',\n",
       "  '491',\n",
       "  '676',\n",
       "  '579',\n",
       "  '676',\n",
       "  '676',\n",
       "  '579',\n",
       "  '1,271',\n",
       "  '491',\n",
       "  '491'],\n",
       " 'rule_8rp1': ['1,271',\n",
       "  '1,271',\n",
       "  '1,271',\n",
       "  '1,271',\n",
       "  '676',\n",
       "  '31,208',\n",
       "  '579',\n",
       "  '491',\n",
       "  '676',\n",
       "  '579',\n",
       "  '676',\n",
       "  '676',\n",
       "  '579',\n",
       "  '1,271',\n",
       "  '491',\n",
       "  '491'],\n",
       " 'rule_5bz5': ['31,208', '1,271']}"
      ]
     },
     "execution_count": 4,
     "metadata": {},
     "output_type": "execute_result"
    }
   ],
   "source": [
    "scraper.get_result_similar(url,grouped=True)\n"
   ]
  },
  {
   "cell_type": "code",
   "execution_count": 6,
   "id": "6e7aae26-467e-4480-a58f-e9e5c4f98551",
   "metadata": {},
   "outputs": [],
   "source": [
    "scraper.set_rule_aliases({'rule_cbjg': 'Title', 'rule_8rp1':'Price'})\n",
    "scraper.keep_rules(['rule_cbjg','rule_8rp1'])\n",
    "scraper.save('amazon-search')"
   ]
  },
  {
   "cell_type": "code",
   "execution_count": 9,
   "id": "114704e5-bdd3-4d7c-ba43-58beb5a0a9b9",
   "metadata": {},
   "outputs": [],
   "source": [
    "results=scraper.get_result_similar('https://www.amazon.in/s?k=samsung+mobile+above+20000',group_by_alias=True)"
   ]
  },
  {
   "cell_type": "code",
   "execution_count": 10,
   "id": "632f4a76-e697-4d21-a263-3f1ad0a8b4ef",
   "metadata": {},
   "outputs": [
    {
     "data": {
      "text/plain": [
       "['10,870',\n",
       " '162',\n",
       " '261',\n",
       " '21',\n",
       " '31,416',\n",
       " '31,416',\n",
       " '75',\n",
       " '75',\n",
       " '1,061',\n",
       " '1,061',\n",
       " '29',\n",
       " '1,061',\n",
       " '1,416',\n",
       " '1,061',\n",
       " '1,061',\n",
       " '1,061']"
      ]
     },
     "execution_count": 10,
     "metadata": {},
     "output_type": "execute_result"
    }
   ],
   "source": [
    "results['Price']"
   ]
  },
  {
   "cell_type": "code",
   "execution_count": null,
   "id": "5234302a-27ad-46c4-9527-16cf076dfeab",
   "metadata": {},
   "outputs": [],
   "source": []
  },
  {
   "cell_type": "code",
   "execution_count": null,
   "id": "a9787197-147f-4800-98c1-2c0daa81906f",
   "metadata": {},
   "outputs": [],
   "source": []
  }
 ],
 "metadata": {
  "kernelspec": {
   "display_name": "Python 3 (ipykernel)",
   "language": "python",
   "name": "python3"
  },
  "language_info": {
   "codemirror_mode": {
    "name": "ipython",
    "version": 3
   },
   "file_extension": ".py",
   "mimetype": "text/x-python",
   "name": "python",
   "nbconvert_exporter": "python",
   "pygments_lexer": "ipython3",
   "version": "3.9.13"
  }
 },
 "nbformat": 4,
 "nbformat_minor": 5
}
